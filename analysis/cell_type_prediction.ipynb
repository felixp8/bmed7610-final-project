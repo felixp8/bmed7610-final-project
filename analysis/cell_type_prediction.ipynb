{
 "cells": [
  {
   "cell_type": "code",
   "execution_count": 1,
   "id": "a23ac949",
   "metadata": {},
   "outputs": [],
   "source": [
    "import os\n",
    "os.chdir('../ssl_neuron/')"
   ]
  },
  {
   "cell_type": "code",
   "execution_count": 2,
   "id": "wireless-singing",
   "metadata": {},
   "outputs": [
    {
     "name": "stdout",
     "output_type": "stream",
     "text": [
      "env: CUDA_DEVICE_ORDER=PCI_BUS_ID\n",
      "env: CUDA_VISIBLE_DEVICES=3\n",
      "%pylab is deprecated, use %matplotlib inline and import the required libraries.\n",
      "Populating the interactive namespace from numpy and matplotlib\n"
     ]
    }
   ],
   "source": [
    "%env CUDA_DEVICE_ORDER=PCI_BUS_ID\n",
    "%env CUDA_VISIBLE_DEVICES=3\n",
    "%pylab inline\n",
    "%load_ext autoreload\n",
    "%autoreload 2"
   ]
  },
  {
   "cell_type": "code",
   "execution_count": 3,
   "id": "motivated-oasis",
   "metadata": {},
   "outputs": [
    {
     "name": "stderr",
     "output_type": "stream",
     "text": [
      "/home/fpei2/miniconda3/envs/bmed7610/lib/python3.8/site-packages/tqdm-4.64.1-py3.8.egg/tqdm/auto.py:22: TqdmWarning: IProgress not found. Please update jupyter and ipywidgets. See https://ipywidgets.readthedocs.io/en/stable/user_install.html\n",
      "  from .autonotebook import tqdm as notebook_tqdm\n"
     ]
    }
   ],
   "source": [
    "import json\n",
    "import torch\n",
    "import numpy as np\n",
    "import matplotlib.pyplot as plt\n",
    "from tqdm import tqdm\n",
    "import seaborn as sns\n",
    "from sklearn.manifold import TSNE"
   ]
  },
  {
   "cell_type": "code",
   "execution_count": 4,
   "id": "clear-there",
   "metadata": {},
   "outputs": [],
   "source": [
    "from ssl_neuron.datasets import AllenDataset\n",
    "from ssl_neuron.utils import plot_neuron, plot_tsne, neighbors_to_adjacency, compute_eig_lapl\n",
    "from ssl_neuron.graphdino import create_model"
   ]
  },
  {
   "cell_type": "markdown",
   "id": "comprehensive-provider",
   "metadata": {},
   "source": [
    "#### Load config"
   ]
  },
  {
   "cell_type": "code",
   "execution_count": 6,
   "id": "geographic-pollution",
   "metadata": {},
   "outputs": [],
   "source": [
    "config = json.load(open('./ssl_neuron/configs/config.json'))"
   ]
  },
  {
   "cell_type": "markdown",
   "id": "yellow-salem",
   "metadata": {},
   "source": [
    "#### Load model + checkpoint"
   ]
  },
  {
   "cell_type": "code",
   "execution_count": 7,
   "id": "dressed-roommate",
   "metadata": {},
   "outputs": [],
   "source": [
    "model = create_model(config)"
   ]
  },
  {
   "cell_type": "code",
   "execution_count": 8,
   "id": "extensive-inflation",
   "metadata": {},
   "outputs": [],
   "source": [
    "state_dict = torch.load('./ssl_neuron/ckpts/ckpt.pt')"
   ]
  },
  {
   "cell_type": "code",
   "execution_count": 9,
   "id": "declared-general",
   "metadata": {},
   "outputs": [
    {
     "data": {
      "text/plain": [
       "<All keys matched successfully>"
      ]
     },
     "execution_count": 9,
     "metadata": {},
     "output_type": "execute_result"
    }
   ],
   "source": [
    "model.load_state_dict(state_dict)"
   ]
  },
  {
   "cell_type": "code",
   "execution_count": 10,
   "id": "olive-relative",
   "metadata": {},
   "outputs": [],
   "source": [
    "model.eval()\n",
    "model.cuda();"
   ]
  },
  {
   "cell_type": "markdown",
   "id": "rising-trainer",
   "metadata": {},
   "source": [
    "#### Load dataset"
   ]
  },
  {
   "cell_type": "code",
   "execution_count": 11,
   "id": "detected-parish",
   "metadata": {},
   "outputs": [
    {
     "name": "stderr",
     "output_type": "stream",
     "text": [
      "430it [00:12, 34.06it/s] \n"
     ]
    }
   ],
   "source": [
    "dset = AllenDataset(config, mode='all')"
   ]
  },
  {
   "cell_type": "code",
   "execution_count": 20,
   "id": "yellow-guinea",
   "metadata": {},
   "outputs": [],
   "source": [
    "feat, neigh = dset.__getsingleitem__(0)"
   ]
  },
  {
   "cell_type": "code",
   "execution_count": 21,
   "id": "4fe31132",
   "metadata": {},
   "outputs": [],
   "source": [
    "# feat, neigh = dset._augment(neigh, feat, [0])\n",
    "neigh, adj_matrix, not_deleted, distances = dset._reduce_nodes(neigh, [0])\n",
    "feat = feat[not_deleted]"
   ]
  },
  {
   "cell_type": "code",
   "execution_count": 22,
   "id": "phantom-rainbow",
   "metadata": {},
   "outputs": [
    {
     "data": {
      "text/plain": [
       "((200, 8), 200)"
      ]
     },
     "execution_count": 22,
     "metadata": {},
     "output_type": "execute_result"
    }
   ],
   "source": [
    "feat.shape, len(neigh)"
   ]
  },
  {
   "cell_type": "code",
   "execution_count": 23,
   "id": "urban-flesh",
   "metadata": {},
   "outputs": [],
   "source": [
    "adj_matrix = neighbors_to_adjacency(neigh, list(neigh.keys()))\n",
    "lapl = compute_eig_lapl(adj_matrix, pos_enc_dim=config['model']['pos_dim'])"
   ]
  },
  {
   "cell_type": "markdown",
   "id": "framed-mandate",
   "metadata": {},
   "source": [
    "#### Plot neuron"
   ]
  },
  {
   "cell_type": "code",
   "execution_count": 24,
   "id": "ahead-timber",
   "metadata": {},
   "outputs": [
    {
     "ename": "IndexError",
     "evalue": "index 4777 is out of bounds for axis 0 with size 200",
     "output_type": "error",
     "traceback": [
      "\u001b[0;31m---------------------------------------------------------------------------\u001b[0m",
      "\u001b[0;31mIndexError\u001b[0m                                Traceback (most recent call last)",
      "Cell \u001b[0;32mIn [24], line 1\u001b[0m\n\u001b[0;32m----> 1\u001b[0m plot_neuron(neigh, feat)\n",
      "File \u001b[0;32m~/project/bmed7610-final-project/ssl_neuron/ssl_neuron/utils.py:335\u001b[0m, in \u001b[0;36mplot_neuron\u001b[0;34m(neighbors, node_feats, ax1, ax2, soma_id, ax)\u001b[0m\n\u001b[1;32m    333\u001b[0m \u001b[39mfor\u001b[39;00m i, neigh \u001b[39min\u001b[39;00m neighbors\u001b[39m.\u001b[39mitems():\n\u001b[1;32m    334\u001b[0m     \u001b[39mfor\u001b[39;00m j \u001b[39min\u001b[39;00m neigh:\n\u001b[0;32m--> 335\u001b[0m         n1, n2 \u001b[39m=\u001b[39m node_feats[i], node_feats[j]\n\u001b[1;32m    336\u001b[0m         c \u001b[39m=\u001b[39m colors[np\u001b[39m.\u001b[39margmax(n2[\u001b[39m4\u001b[39m:])]\n\u001b[1;32m    337\u001b[0m         ax\u001b[39m.\u001b[39mplot([n1[ax1], n2[ax1]], [n1[ax2], n2[ax2]], color\u001b[39m=\u001b[39mc, linewidth\u001b[39m=\u001b[39m\u001b[39m1\u001b[39m)\n",
      "\u001b[0;31mIndexError\u001b[0m: index 4777 is out of bounds for axis 0 with size 200"
     ]
    },
    {
     "data": {
      "image/png": "[encoded data removed]",
      "text/plain": [
       "<Figure size 640x480 with 1 Axes>"
      ]
     },
     "metadata": {},
     "output_type": "display_data"
    }
   ],
   "source": [
    "plot_neuron(neigh, feat)"
   ]
  },
  {
   "cell_type": "markdown",
   "id": "bizarre-expense",
   "metadata": {},
   "source": [
    "#### Run inference"
   ]
  },
  {
   "cell_type": "code",
   "execution_count": 25,
   "id": "cathedral-sodium",
   "metadata": {},
   "outputs": [
    {
     "name": "stderr",
     "output_type": "stream",
     "text": [
      "100%|██████████| 430/430 [03:41<00:00,  1.94it/s]\n"
     ]
    }
   ],
   "source": [
    "latents = np.zeros((dset.num_samples, config['model']['dim']))\n",
    "\n",
    "for i in tqdm(range(dset.num_samples)):\n",
    "    feat, neigh = dset.__getsingleitem__(i)\n",
    "    neigh, adj_matrix, not_deleted, distances = dset._reduce_nodes(neigh, [0])\n",
    "    feat = feat[not_deleted]\n",
    "    adj = torch.from_numpy(neighbors_to_adjacency(neigh, list(neigh.keys()))).float().cuda()[None, ]\n",
    "    lapl = compute_eig_lapl(adj_matrix, pos_enc_dim=config['model']['pos_dim']).float().cuda()[None, ]\n",
    "    feat = torch.from_numpy(feat).float().cuda()[None, ]\n",
    "    \n",
    "    latents[i] = model.student_encoder.forward(feat, adj, lapl)[0].cpu().detach()\n"
   ]
  },
  {
   "cell_type": "code",
   "execution_count": 26,
   "id": "virgin-kinase",
   "metadata": {},
   "outputs": [
    {
     "data": {
      "text/plain": [
       "<ErrorbarContainer object of 3 artists>"
      ]
     },
     "execution_count": 26,
     "metadata": {},
     "output_type": "execute_result"
    },
    {
     "data": {
      "image/png": "[encoded data removed]",
      "text/plain": [
       "<Figure size 640x480 with 1 Axes>"
      ]
     },
     "metadata": {},
     "output_type": "display_data"
    }
   ],
   "source": [
    "plt.scatter(np.arange(config['model']['dim']), latents.mean(axis=0))\n",
    "\n",
    "plt.errorbar(np.arange(config['model']['dim']), latents.mean(axis=0), yerr = latents.std(axis=0), fmt='none')"
   ]
  },
  {
   "cell_type": "code",
   "execution_count": 27,
   "id": "opening-satellite",
   "metadata": {
    "jupyter": {
     "source_hidden": true
    }
   },
   "outputs": [],
   "source": [
    "colors = [list(sns.color_palette(\"mako\", n_colors=10)[3])] + [list(sns.color_palette(\"mako\", n_colors=10)[-2])]"
   ]
  },
  {
   "cell_type": "code",
   "execution_count": 28,
   "id": "exposed-passenger",
   "metadata": {},
   "outputs": [],
   "source": [
    "z = TSNE(n_components=2, perplexity=30).fit_transform(latents)"
   ]
  },
  {
   "cell_type": "code",
   "execution_count": 29,
   "id": "positive-monthly",
   "metadata": {},
   "outputs": [
    {
     "data": {
      "image/png": "[encoded data removed]",
      "text/plain": [
       "<Figure size 800x800 with 1 Axes>"
      ]
     },
     "metadata": {},
     "output_type": "display_data"
    }
   ],
   "source": [
    "plot_tsne(z, np.concatenate([np.zeros(200, dtype=int), np.ones(230, dtype=int)]), targets=['aspiny', 'spiny'], colors=[colors[1], colors[0]])"
   ]
  },
  {
   "cell_type": "code",
   "execution_count": 31,
   "id": "military-provincial",
   "metadata": {},
   "outputs": [],
   "source": [
    "from sklearn.linear_model import LogisticRegression\n",
    "from sklearn.model_selection import GridSearchCV"
   ]
  },
  {
   "cell_type": "code",
   "execution_count": 34,
   "id": "e68c99f3",
   "metadata": {},
   "outputs": [],
   "source": [
    "labels = np.concatenate([np.zeros(200, dtype=int), np.ones(230, dtype=int)])"
   ]
  },
  {
   "cell_type": "code",
   "execution_count": 35,
   "id": "4e387af5",
   "metadata": {},
   "outputs": [
    {
     "data": {
      "text/plain": [
       "GridSearchCV(estimator=LogisticRegression(), param_grid={})"
      ]
     },
     "execution_count": 35,
     "metadata": {},
     "output_type": "execute_result"
    }
   ],
   "source": [
    "gscv = GridSearchCV(\n",
    "    LogisticRegression(),\n",
    "    {},\n",
    ")\n",
    "gscv.fit(latents, labels)"
   ]
  },
  {
   "cell_type": "code",
   "execution_count": 36,
   "id": "f2a474c6",
   "metadata": {},
   "outputs": [
    {
     "name": "stdout",
     "output_type": "stream",
     "text": [
      "0.9395348837209301\n"
     ]
    }
   ],
   "source": [
    "print(gscv.best_score_)"
   ]
  },
  {
   "cell_type": "code",
   "execution_count": null,
   "id": "67422000",
   "metadata": {},
   "outputs": [],
   "source": []
  }
 ],
 "metadata": {
  "kernelspec": {
   "display_name": "Python 3.8.13 ('bmed7610')",
   "language": "python",
   "name": "python3"
  },
  "language_info": {
   "codemirror_mode": {
    "name": "ipython",
    "version": 3
   },
   "file_extension": ".py",
   "mimetype": "text/x-python",
   "name": "python",
   "nbconvert_exporter": "python",
   "pygments_lexer": "ipython3",
   "version": "3.8.13"
  },
  "vscode": {
   "interpreter": {
    "hash": "4850af36c3e02157f517de47d85f69f1c96e9fd7c4ce9abf61aa68064fc65c69"
   }
  }
 },
 "nbformat": 4,
 "nbformat_minor": 5
}
