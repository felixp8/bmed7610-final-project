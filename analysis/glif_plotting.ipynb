{
 "cells": [
  {
   "cell_type": "code",
   "execution_count": 1,
   "metadata": {},
   "outputs": [
    {
     "name": "stderr",
     "output_type": "stream",
     "text": [
      "/home/fpei2/miniconda3/envs/bmed7610/lib/python3.8/site-packages/tqdm-4.64.1-py3.8.egg/tqdm/auto.py:22: TqdmWarning: IProgress not found. Please update jupyter and ipywidgets. See https://ipywidgets.readthedocs.io/en/stable/user_install.html\n",
      "  from .autonotebook import tqdm as notebook_tqdm\n"
     ]
    }
   ],
   "source": [
    "import os\n",
    "os.chdir('../ssl_neuron/')\n",
    "\n",
    "import warnings\n",
    "warnings.simplefilter(action='ignore', category=FutureWarning)\n",
    "\n",
    "import json\n",
    "import gc\n",
    "import pickle\n",
    "import copy\n",
    "import numpy as np\n",
    "import pandas as pd\n",
    "from tqdm import tqdm\n",
    "import matplotlib.pyplot as plt\n",
    "import networkx as nx\n",
    "import scipy.signal as signal\n",
    "from allensdk.core.cell_types_cache import CellTypesCache\n",
    "\n",
    "from allensdk.api.queries.glif_api import GlifApi\n",
    "import allensdk.core.json_utilities as json_utilities\n",
    "from allensdk.model.glif.glif_neuron import GlifNeuron\n",
    "\n",
    "from allensdk.ephys.ephys_extractor import EphysSweepFeatureExtractor\n",
    "\n",
    "from ssl_neuron.datasets import AllenDataset\n",
    "\n",
    "import time\n",
    "import uuid"
   ]
  },
  {
   "cell_type": "code",
   "execution_count": 2,
   "metadata": {},
   "outputs": [],
   "source": [
    "ctc = CellTypesCache(manifest_file='./ssl_neuron/data/cell_types/manifest.json')\n",
    "\n",
    "cells = ctc.get_cells()\n",
    "cell_df = pd.DataFrame(cells)\n",
    "\n",
    "ephys_features = ctc.get_ephys_features()\n",
    "ef_df = pd.DataFrame(ephys_features)\n",
    "\n",
    "morphology_features = ctc.get_morphology_features()\n",
    "morph_df = pd.DataFrame(morphology_features)"
   ]
  },
  {
   "cell_type": "code",
   "execution_count": 32,
   "metadata": {},
   "outputs": [
    {
     "data": {
      "text/html": [
       "<div>\n",
       "<style scoped>\n",
       "    .dataframe tbody tr th:only-of-type {\n",
       "        vertical-align: middle;\n",
       "    }\n",
       "\n",
       "    .dataframe tbody tr th {\n",
       "        vertical-align: top;\n",
       "    }\n",
       "\n",
       "    .dataframe thead th {\n",
       "        text-align: right;\n",
       "    }\n",
       "</style>\n",
       "<table border=\"1\" class=\"dataframe\">\n",
       "  <thead>\n",
       "    <tr style=\"text-align: right;\">\n",
       "      <th></th>\n",
       "      <th>reporter_status</th>\n",
       "      <th>cell_soma_location</th>\n",
       "      <th>species</th>\n",
       "      <th>name</th>\n",
       "      <th>structure_layer_name</th>\n",
       "      <th>structure_area_id</th>\n",
       "      <th>structure_area_abbrev</th>\n",
       "      <th>transgenic_line</th>\n",
       "      <th>dendrite_type</th>\n",
       "      <th>apical</th>\n",
       "      <th>reconstruction_type</th>\n",
       "      <th>disease_state</th>\n",
       "      <th>donor_id</th>\n",
       "      <th>structure_hemisphere</th>\n",
       "      <th>normalized_depth</th>\n",
       "    </tr>\n",
       "    <tr>\n",
       "      <th>id</th>\n",
       "      <th></th>\n",
       "      <th></th>\n",
       "      <th></th>\n",
       "      <th></th>\n",
       "      <th></th>\n",
       "      <th></th>\n",
       "      <th></th>\n",
       "      <th></th>\n",
       "      <th></th>\n",
       "      <th></th>\n",
       "      <th></th>\n",
       "      <th></th>\n",
       "      <th></th>\n",
       "      <th></th>\n",
       "      <th></th>\n",
       "    </tr>\n",
       "  </thead>\n",
       "  <tbody>\n",
       "    <tr>\n",
       "      <th>313862022</th>\n",
       "      <td>positive</td>\n",
       "      <td>[9489.24257509068, 1423.65239028148, 2785.4430...</td>\n",
       "      <td>Mus musculus</td>\n",
       "      <td>Scnn1a-Tg2-Cre;Ai14-167081.03.02.01</td>\n",
       "      <td>4</td>\n",
       "      <td>385</td>\n",
       "      <td>VISp</td>\n",
       "      <td>Scnn1a-Tg2-Cre</td>\n",
       "      <td>spiny</td>\n",
       "      <td>intact</td>\n",
       "      <td>dendrite-only</td>\n",
       "      <td></td>\n",
       "      <td>313401508</td>\n",
       "      <td>right</td>\n",
       "      <td>0.461634</td>\n",
       "    </tr>\n",
       "    <tr>\n",
       "      <th>313862167</th>\n",
       "      <td>positive</td>\n",
       "      <td>[9279.53948496313, 1831.03502009105, 2151.2443...</td>\n",
       "      <td>Mus musculus</td>\n",
       "      <td>Sst-IRES-Cre;Ai14-167638.05.02.01</td>\n",
       "      <td>4</td>\n",
       "      <td>409</td>\n",
       "      <td>VISl</td>\n",
       "      <td>Sst-IRES-Cre</td>\n",
       "      <td>aspiny</td>\n",
       "      <td>NA</td>\n",
       "      <td>full</td>\n",
       "      <td></td>\n",
       "      <td>313401544</td>\n",
       "      <td>right</td>\n",
       "      <td>0.340213</td>\n",
       "    </tr>\n",
       "    <tr>\n",
       "      <th>313862373</th>\n",
       "      <td>positive</td>\n",
       "      <td>[9465.94223174317, 2210.36351644808, 2482.0829...</td>\n",
       "      <td>Mus musculus</td>\n",
       "      <td>Pvalb-IRES-Cre;Ai14-165171.03.01.01</td>\n",
       "      <td>6a</td>\n",
       "      <td>409</td>\n",
       "      <td>VISl</td>\n",
       "      <td>Pvalb-IRES-Cre</td>\n",
       "      <td>aspiny</td>\n",
       "      <td>NA</td>\n",
       "      <td>full</td>\n",
       "      <td></td>\n",
       "      <td>312883105</td>\n",
       "      <td>left</td>\n",
       "      <td>0.841597</td>\n",
       "    </tr>\n",
       "    <tr>\n",
       "      <th>314642645</th>\n",
       "      <td>positive</td>\n",
       "      <td>[9396.04120170065, 1466.39421665714, 2676.1811...</td>\n",
       "      <td>Mus musculus</td>\n",
       "      <td>Rorb-IRES2-Cre-D;Ai14-168052.03.02.01</td>\n",
       "      <td>4</td>\n",
       "      <td>385</td>\n",
       "      <td>VISp</td>\n",
       "      <td>Rorb-IRES2-Cre</td>\n",
       "      <td>spiny</td>\n",
       "      <td>intact</td>\n",
       "      <td>dendrite-only</td>\n",
       "      <td></td>\n",
       "      <td>313403614</td>\n",
       "      <td>right</td>\n",
       "      <td>0.352524</td>\n",
       "    </tr>\n",
       "    <tr>\n",
       "      <th>314804042</th>\n",
       "      <td>positive</td>\n",
       "      <td>[8766.93193131801, 1245.0648598059, 8245.14719...</td>\n",
       "      <td>Mus musculus</td>\n",
       "      <td>Rorb-IRES2-Cre-D;Ai14-168053.05.01.01</td>\n",
       "      <td>5</td>\n",
       "      <td>385</td>\n",
       "      <td>VISp</td>\n",
       "      <td>Rorb-IRES2-Cre</td>\n",
       "      <td>spiny</td>\n",
       "      <td>intact</td>\n",
       "      <td>dendrite-only</td>\n",
       "      <td></td>\n",
       "      <td>313403626</td>\n",
       "      <td>left</td>\n",
       "      <td>0.494978</td>\n",
       "    </tr>\n",
       "    <tr>\n",
       "      <th>...</th>\n",
       "      <td>...</td>\n",
       "      <td>...</td>\n",
       "      <td>...</td>\n",
       "      <td>...</td>\n",
       "      <td>...</td>\n",
       "      <td>...</td>\n",
       "      <td>...</td>\n",
       "      <td>...</td>\n",
       "      <td>...</td>\n",
       "      <td>...</td>\n",
       "      <td>...</td>\n",
       "      <td>...</td>\n",
       "      <td>...</td>\n",
       "      <td>...</td>\n",
       "      <td>...</td>\n",
       "    </tr>\n",
       "    <tr>\n",
       "      <th>605660220</th>\n",
       "      <td>positive</td>\n",
       "      <td>[8435.88461497855, 1565.32145439185, 8695.5190...</td>\n",
       "      <td>Mus musculus</td>\n",
       "      <td>Penk-IRES2-Cre-neo;Ai14-336495.04.01.01</td>\n",
       "      <td>6a</td>\n",
       "      <td>385</td>\n",
       "      <td>VISp</td>\n",
       "      <td>Penk-IRES2-Cre-neo</td>\n",
       "      <td>spiny</td>\n",
       "      <td>intact</td>\n",
       "      <td>dendrite-only</td>\n",
       "      <td></td>\n",
       "      <td>604669312</td>\n",
       "      <td>left</td>\n",
       "      <td>0.780030</td>\n",
       "    </tr>\n",
       "    <tr>\n",
       "      <th>607124114</th>\n",
       "      <td>positive</td>\n",
       "      <td>[8511.0, 1240.02954240346, 8318.40352036628]</td>\n",
       "      <td>Mus musculus</td>\n",
       "      <td>Tlx3-Cre_PL56;Ai14-338859.04.01.01</td>\n",
       "      <td>5</td>\n",
       "      <td>385</td>\n",
       "      <td>VISp</td>\n",
       "      <td>Tlx3-Cre_PL56</td>\n",
       "      <td>spiny</td>\n",
       "      <td>intact</td>\n",
       "      <td>dendrite-only</td>\n",
       "      <td></td>\n",
       "      <td>606162417</td>\n",
       "      <td>left</td>\n",
       "      <td>0.652086</td>\n",
       "    </tr>\n",
       "    <tr>\n",
       "      <th>609435731</th>\n",
       "      <td>positive</td>\n",
       "      <td>[8253.0, 593.839010501723, 3532.39427084889]</td>\n",
       "      <td>Mus musculus</td>\n",
       "      <td>Vipr2-IRES2-Cre;Slc32a1-T2A-FlpO;Ai65-343382.0...</td>\n",
       "      <td>2/3</td>\n",
       "      <td>385</td>\n",
       "      <td>VISp</td>\n",
       "      <td>Slc32a1-T2A-FlpO|Vipr2-IRES2-Cre</td>\n",
       "      <td>aspiny</td>\n",
       "      <td>NA</td>\n",
       "      <td>full</td>\n",
       "      <td></td>\n",
       "      <td>607117989</td>\n",
       "      <td>right</td>\n",
       "      <td>0.161134</td>\n",
       "    </tr>\n",
       "    <tr>\n",
       "      <th>614767057</th>\n",
       "      <td>positive</td>\n",
       "      <td>[8186.0, 1179.8418072998, 9118.53063649071]</td>\n",
       "      <td>Mus musculus</td>\n",
       "      <td>Vipr2-IRES2-Cre;Pvalb-T2A-FlpO;Ai65-344474.05....</td>\n",
       "      <td>2/3</td>\n",
       "      <td>417</td>\n",
       "      <td>VISrl</td>\n",
       "      <td>Pvalb-T2A-FlpO|Vipr2-IRES2-Cre</td>\n",
       "      <td>aspiny</td>\n",
       "      <td>NA</td>\n",
       "      <td>full</td>\n",
       "      <td></td>\n",
       "      <td>612905021</td>\n",
       "      <td>left</td>\n",
       "      <td>0.159576</td>\n",
       "    </tr>\n",
       "    <tr>\n",
       "      <th>614777438</th>\n",
       "      <td>positive</td>\n",
       "      <td>[9088.30784322412, 895.315354556622, 3073.0855...</td>\n",
       "      <td>Mus musculus</td>\n",
       "      <td>Vipr2-IRES2-Cre;Pvalb-T2A-FlpO;Ai65-344474.02....</td>\n",
       "      <td>2/3</td>\n",
       "      <td>385</td>\n",
       "      <td>VISp</td>\n",
       "      <td>Pvalb-T2A-FlpO|Vipr2-IRES2-Cre</td>\n",
       "      <td>aspiny</td>\n",
       "      <td>NA</td>\n",
       "      <td>full</td>\n",
       "      <td></td>\n",
       "      <td>612905021</td>\n",
       "      <td>right</td>\n",
       "      <td>0.192573</td>\n",
       "    </tr>\n",
       "  </tbody>\n",
       "</table>\n",
       "<p>377 rows × 15 columns</p>\n",
       "</div>"
      ],
      "text/plain": [
       "          reporter_status                                 cell_soma_location  \\\n",
       "id                                                                             \n",
       "313862022        positive  [9489.24257509068, 1423.65239028148, 2785.4430...   \n",
       "313862167        positive  [9279.53948496313, 1831.03502009105, 2151.2443...   \n",
       "313862373        positive  [9465.94223174317, 2210.36351644808, 2482.0829...   \n",
       "314642645        positive  [9396.04120170065, 1466.39421665714, 2676.1811...   \n",
       "314804042        positive  [8766.93193131801, 1245.0648598059, 8245.14719...   \n",
       "...                   ...                                                ...   \n",
       "605660220        positive  [8435.88461497855, 1565.32145439185, 8695.5190...   \n",
       "607124114        positive       [8511.0, 1240.02954240346, 8318.40352036628]   \n",
       "609435731        positive       [8253.0, 593.839010501723, 3532.39427084889]   \n",
       "614767057        positive        [8186.0, 1179.8418072998, 9118.53063649071]   \n",
       "614777438        positive  [9088.30784322412, 895.315354556622, 3073.0855...   \n",
       "\n",
       "                species                                               name  \\\n",
       "id                                                                           \n",
       "313862022  Mus musculus                Scnn1a-Tg2-Cre;Ai14-167081.03.02.01   \n",
       "313862167  Mus musculus                  Sst-IRES-Cre;Ai14-167638.05.02.01   \n",
       "313862373  Mus musculus                Pvalb-IRES-Cre;Ai14-165171.03.01.01   \n",
       "314642645  Mus musculus              Rorb-IRES2-Cre-D;Ai14-168052.03.02.01   \n",
       "314804042  Mus musculus              Rorb-IRES2-Cre-D;Ai14-168053.05.01.01   \n",
       "...                 ...                                                ...   \n",
       "605660220  Mus musculus            Penk-IRES2-Cre-neo;Ai14-336495.04.01.01   \n",
       "607124114  Mus musculus                 Tlx3-Cre_PL56;Ai14-338859.04.01.01   \n",
       "609435731  Mus musculus  Vipr2-IRES2-Cre;Slc32a1-T2A-FlpO;Ai65-343382.0...   \n",
       "614767057  Mus musculus  Vipr2-IRES2-Cre;Pvalb-T2A-FlpO;Ai65-344474.05....   \n",
       "614777438  Mus musculus  Vipr2-IRES2-Cre;Pvalb-T2A-FlpO;Ai65-344474.02....   \n",
       "\n",
       "          structure_layer_name  structure_area_id structure_area_abbrev  \\\n",
       "id                                                                        \n",
       "313862022                    4                385                  VISp   \n",
       "313862167                    4                409                  VISl   \n",
       "313862373                   6a                409                  VISl   \n",
       "314642645                    4                385                  VISp   \n",
       "314804042                    5                385                  VISp   \n",
       "...                        ...                ...                   ...   \n",
       "605660220                   6a                385                  VISp   \n",
       "607124114                    5                385                  VISp   \n",
       "609435731                  2/3                385                  VISp   \n",
       "614767057                  2/3                417                 VISrl   \n",
       "614777438                  2/3                385                  VISp   \n",
       "\n",
       "                            transgenic_line dendrite_type  apical  \\\n",
       "id                                                                  \n",
       "313862022                    Scnn1a-Tg2-Cre         spiny  intact   \n",
       "313862167                      Sst-IRES-Cre        aspiny      NA   \n",
       "313862373                    Pvalb-IRES-Cre        aspiny      NA   \n",
       "314642645                    Rorb-IRES2-Cre         spiny  intact   \n",
       "314804042                    Rorb-IRES2-Cre         spiny  intact   \n",
       "...                                     ...           ...     ...   \n",
       "605660220                Penk-IRES2-Cre-neo         spiny  intact   \n",
       "607124114                     Tlx3-Cre_PL56         spiny  intact   \n",
       "609435731  Slc32a1-T2A-FlpO|Vipr2-IRES2-Cre        aspiny      NA   \n",
       "614767057    Pvalb-T2A-FlpO|Vipr2-IRES2-Cre        aspiny      NA   \n",
       "614777438    Pvalb-T2A-FlpO|Vipr2-IRES2-Cre        aspiny      NA   \n",
       "\n",
       "          reconstruction_type disease_state   donor_id structure_hemisphere  \\\n",
       "id                                                                            \n",
       "313862022       dendrite-only                313401508                right   \n",
       "313862167                full                313401544                right   \n",
       "313862373                full                312883105                 left   \n",
       "314642645       dendrite-only                313403614                right   \n",
       "314804042       dendrite-only                313403626                 left   \n",
       "...                       ...           ...        ...                  ...   \n",
       "605660220       dendrite-only                604669312                 left   \n",
       "607124114       dendrite-only                606162417                 left   \n",
       "609435731                full                607117989                right   \n",
       "614767057                full                612905021                 left   \n",
       "614777438                full                612905021                right   \n",
       "\n",
       "           normalized_depth  \n",
       "id                           \n",
       "313862022          0.461634  \n",
       "313862167          0.340213  \n",
       "313862373          0.841597  \n",
       "314642645          0.352524  \n",
       "314804042          0.494978  \n",
       "...                     ...  \n",
       "605660220          0.780030  \n",
       "607124114          0.652086  \n",
       "609435731          0.161134  \n",
       "614767057          0.159576  \n",
       "614777438          0.192573  \n",
       "\n",
       "[377 rows x 15 columns]"
      ]
     },
     "execution_count": 32,
     "metadata": {},
     "output_type": "execute_result"
    }
   ],
   "source": []
  },
  {
   "cell_type": "code",
   "execution_count": 3,
   "metadata": {},
   "outputs": [],
   "source": [
    "model_scores = []\n",
    "for score_file in sorted(os.listdir('../analysis/glif_models/mlp_scores/')):\n",
    "    cell_id = int(score_file.replace('.json', '').strip())\n",
    "    with open(os.path.join('../analysis/glif_models/mlp_scores/', score_file), 'r') as f:\n",
    "        cell_scores = json.load(f)\n",
    "    cell_scores['cell_id'] = cell_id\n",
    "    model_scores.append(cell_scores)\n",
    "model_scores = pd.DataFrame(model_scores)"
   ]
  },
  {
   "cell_type": "code",
   "execution_count": 4,
   "metadata": {},
   "outputs": [],
   "source": [
    "model_scores2 = []\n",
    "for score_file in sorted(os.listdir('../analysis/glif_models/mlp_scores/')):\n",
    "    cell_id = int(score_file.replace('.json', '').strip())\n",
    "    with open(os.path.join('../analysis/glif_models/mlp_scores/', score_file), 'r') as f:\n",
    "        cell_scores = json.load(f)\n",
    "    cell_scores['cell_id'] = cell_id\n",
    "    model_scores2.append(cell_scores)\n",
    "model_scores2 = pd.DataFrame(model_scores2)"
   ]
  },
  {
   "cell_type": "code",
   "execution_count": 7,
   "metadata": {},
   "outputs": [],
   "source": [
    "model_scores_joined = pd.concat([model_scores.set_index('cell_id'), model_scores2.set_index('cell_id')], axis=1).reset_index()"
   ]
  },
  {
   "cell_type": "code",
   "execution_count": 9,
   "metadata": {},
   "outputs": [],
   "source": [
    "model_scores = model_scores_joined"
   ]
  },
  {
   "cell_type": "code",
   "execution_count": 4,
   "metadata": {},
   "outputs": [
    {
     "data": {
      "text/html": [
       "<div>\n",
       "<style scoped>\n",
       "    .dataframe tbody tr th:only-of-type {\n",
       "        vertical-align: middle;\n",
       "    }\n",
       "\n",
       "    .dataframe tbody tr th {\n",
       "        vertical-align: top;\n",
       "    }\n",
       "\n",
       "    .dataframe thead th {\n",
       "        text-align: right;\n",
       "    }\n",
       "</style>\n",
       "<table border=\"1\" class=\"dataframe\">\n",
       "  <thead>\n",
       "    <tr style=\"text-align: right;\">\n",
       "      <th></th>\n",
       "      <th>cell_id</th>\n",
       "      <th>noise_1_mlp0_var</th>\n",
       "      <th>noise_1_mlp1_var</th>\n",
       "      <th>noise_1_mlp2_var</th>\n",
       "      <th>noise_1_mlp3_var</th>\n",
       "      <th>noise_1_mlp4_var</th>\n",
       "      <th>noise_1_base_var</th>\n",
       "    </tr>\n",
       "  </thead>\n",
       "  <tbody>\n",
       "    <tr>\n",
       "      <th>0</th>\n",
       "      <td>313862022</td>\n",
       "      <td>0.719015</td>\n",
       "      <td>0.000000</td>\n",
       "      <td>0.090680</td>\n",
       "      <td>0.000000</td>\n",
       "      <td>0.757892</td>\n",
       "      <td>NaN</td>\n",
       "    </tr>\n",
       "    <tr>\n",
       "      <th>1</th>\n",
       "      <td>313862167</td>\n",
       "      <td>0.897868</td>\n",
       "      <td>0.869963</td>\n",
       "      <td>0.822619</td>\n",
       "      <td>0.822876</td>\n",
       "      <td>0.787124</td>\n",
       "      <td>0.917555</td>\n",
       "    </tr>\n",
       "    <tr>\n",
       "      <th>2</th>\n",
       "      <td>313862373</td>\n",
       "      <td>0.483399</td>\n",
       "      <td>0.606412</td>\n",
       "      <td>0.451592</td>\n",
       "      <td>0.400845</td>\n",
       "      <td>0.543398</td>\n",
       "      <td>NaN</td>\n",
       "    </tr>\n",
       "    <tr>\n",
       "      <th>3</th>\n",
       "      <td>314642645</td>\n",
       "      <td>0.710414</td>\n",
       "      <td>0.705995</td>\n",
       "      <td>0.566552</td>\n",
       "      <td>0.713499</td>\n",
       "      <td>0.641480</td>\n",
       "      <td>0.692379</td>\n",
       "    </tr>\n",
       "    <tr>\n",
       "      <th>4</th>\n",
       "      <td>314804042</td>\n",
       "      <td>0.269430</td>\n",
       "      <td>0.289576</td>\n",
       "      <td>0.000000</td>\n",
       "      <td>0.291525</td>\n",
       "      <td>0.261133</td>\n",
       "      <td>NaN</td>\n",
       "    </tr>\n",
       "    <tr>\n",
       "      <th>...</th>\n",
       "      <td>...</td>\n",
       "      <td>...</td>\n",
       "      <td>...</td>\n",
       "      <td>...</td>\n",
       "      <td>...</td>\n",
       "      <td>...</td>\n",
       "      <td>...</td>\n",
       "    </tr>\n",
       "    <tr>\n",
       "      <th>372</th>\n",
       "      <td>605660220</td>\n",
       "      <td>0.590817</td>\n",
       "      <td>0.396992</td>\n",
       "      <td>0.472612</td>\n",
       "      <td>0.469696</td>\n",
       "      <td>0.425498</td>\n",
       "      <td>0.475709</td>\n",
       "    </tr>\n",
       "    <tr>\n",
       "      <th>373</th>\n",
       "      <td>607124114</td>\n",
       "      <td>0.000000</td>\n",
       "      <td>0.000000</td>\n",
       "      <td>0.000000</td>\n",
       "      <td>0.000000</td>\n",
       "      <td>0.000000</td>\n",
       "      <td>NaN</td>\n",
       "    </tr>\n",
       "    <tr>\n",
       "      <th>374</th>\n",
       "      <td>609435731</td>\n",
       "      <td>0.896736</td>\n",
       "      <td>0.956521</td>\n",
       "      <td>0.892253</td>\n",
       "      <td>0.890479</td>\n",
       "      <td>0.935324</td>\n",
       "      <td>0.950867</td>\n",
       "    </tr>\n",
       "    <tr>\n",
       "      <th>375</th>\n",
       "      <td>614767057</td>\n",
       "      <td>0.890701</td>\n",
       "      <td>0.858125</td>\n",
       "      <td>0.916701</td>\n",
       "      <td>0.942980</td>\n",
       "      <td>0.861385</td>\n",
       "      <td>0.927617</td>\n",
       "    </tr>\n",
       "    <tr>\n",
       "      <th>376</th>\n",
       "      <td>614777438</td>\n",
       "      <td>0.956982</td>\n",
       "      <td>0.947570</td>\n",
       "      <td>0.972982</td>\n",
       "      <td>0.955601</td>\n",
       "      <td>0.913171</td>\n",
       "      <td>0.977803</td>\n",
       "    </tr>\n",
       "  </tbody>\n",
       "</table>\n",
       "<p>377 rows × 7 columns</p>\n",
       "</div>"
      ],
      "text/plain": [
       "       cell_id  noise_1_mlp0_var  noise_1_mlp1_var  noise_1_mlp2_var  \\\n",
       "0    313862022          0.719015          0.000000          0.090680   \n",
       "1    313862167          0.897868          0.869963          0.822619   \n",
       "2    313862373          0.483399          0.606412          0.451592   \n",
       "3    314642645          0.710414          0.705995          0.566552   \n",
       "4    314804042          0.269430          0.289576          0.000000   \n",
       "..         ...               ...               ...               ...   \n",
       "372  605660220          0.590817          0.396992          0.472612   \n",
       "373  607124114          0.000000          0.000000          0.000000   \n",
       "374  609435731          0.896736          0.956521          0.892253   \n",
       "375  614767057          0.890701          0.858125          0.916701   \n",
       "376  614777438          0.956982          0.947570          0.972982   \n",
       "\n",
       "     noise_1_mlp3_var  noise_1_mlp4_var  noise_1_base_var  \n",
       "0            0.000000          0.757892               NaN  \n",
       "1            0.822876          0.787124          0.917555  \n",
       "2            0.400845          0.543398               NaN  \n",
       "3            0.713499          0.641480          0.692379  \n",
       "4            0.291525          0.261133               NaN  \n",
       "..                ...               ...               ...  \n",
       "372          0.469696          0.425498          0.475709  \n",
       "373          0.000000          0.000000               NaN  \n",
       "374          0.890479          0.935324          0.950867  \n",
       "375          0.942980          0.861385          0.927617  \n",
       "376          0.955601          0.913171          0.977803  \n",
       "\n",
       "[377 rows x 7 columns]"
      ]
     },
     "execution_count": 4,
     "metadata": {},
     "output_type": "execute_result"
    }
   ],
   "source": [
    "model_scores"
   ]
  },
  {
   "cell_type": "code",
   "execution_count": 5,
   "metadata": {},
   "outputs": [
    {
     "data": {
      "text/plain": [
       "133"
      ]
     },
     "execution_count": 5,
     "metadata": {},
     "output_type": "execute_result"
    }
   ],
   "source": [
    "pd.isna(model_scores.noise_1_base_var).sum()"
   ]
  },
  {
   "cell_type": "code",
   "execution_count": 10,
   "metadata": {},
   "outputs": [
    {
     "data": {
      "text/plain": [
       "cell_id             5.111632e+08\n",
       "noise_1_mlp0_var    5.319928e-01\n",
       "noise_1_mlp1_var    5.290433e-01\n",
       "noise_1_mlp2_var    5.365173e-01\n",
       "noise_1_mlp3_var    5.410516e-01\n",
       "noise_1_mlp4_var    5.351966e-01\n",
       "noise_1_base_var    6.872188e-01\n",
       "noise_1_mlp0_var    5.319928e-01\n",
       "noise_1_mlp1_var    5.290433e-01\n",
       "noise_1_mlp2_var    5.365173e-01\n",
       "noise_1_mlp3_var    5.410516e-01\n",
       "noise_1_mlp4_var    5.351966e-01\n",
       "noise_1_base_var    6.872188e-01\n",
       "dtype: float64"
      ]
     },
     "execution_count": 10,
     "metadata": {},
     "output_type": "execute_result"
    }
   ],
   "source": [
    "model_scores.mean()"
   ]
  },
  {
   "cell_type": "code",
   "execution_count": 7,
   "metadata": {},
   "outputs": [
    {
     "data": {
      "text/plain": [
       "(0.0, 1.0)"
      ]
     },
     "execution_count": 7,
     "metadata": {},
     "output_type": "execute_result"
    },
    {
     "data": {
      "image/png": "[encoded data removed]",
      "text/plain": [
       "<Figure size 640x480 with 1 Axes>"
      ]
     },
     "metadata": {},
     "output_type": "display_data"
    }
   ],
   "source": [
    "mean_scores = model_scores[~pd.isna(model_scores.noise_1_base_var)].iloc[:, 1:].mean()\n",
    "plt.bar(mean_scores.index, mean_scores)\n",
    "plt.xticks(rotation=90)\n",
    "plt.ylim(0,1)"
   ]
  },
  {
   "cell_type": "code",
   "execution_count": 17,
   "metadata": {},
   "outputs": [
    {
     "data": {
      "text/plain": [
       "noise_1_mlp0_var    0.581019\n",
       "noise_1_mlp1_var    0.574442\n",
       "noise_1_mlp2_var    0.587007\n",
       "noise_1_mlp3_var    0.587291\n",
       "noise_1_mlp4_var    0.583583\n",
       "noise_1_base_var    0.687219\n",
       "dtype: float64"
      ]
     },
     "execution_count": 17,
     "metadata": {},
     "output_type": "execute_result"
    }
   ],
   "source": [
    "mean_scores"
   ]
  },
  {
   "cell_type": "code",
   "execution_count": 8,
   "metadata": {},
   "outputs": [
    {
     "data": {
      "text/plain": [
       "(0.0, 1.0)"
      ]
     },
     "execution_count": 8,
     "metadata": {},
     "output_type": "execute_result"
    },
    {
     "data": {
      "image/png": "[encoded data removed]",
      "text/plain": [
       "<Figure size 640x480 with 1 Axes>"
      ]
     },
     "metadata": {},
     "output_type": "display_data"
    }
   ],
   "source": [
    "median_scores = model_scores[~pd.isna(model_scores.noise_1_base_var)].iloc[:, 1:].median()\n",
    "plt.bar(median_scores.index, median_scores)\n",
    "plt.xticks(rotation=90)\n",
    "plt.ylim(0,1)"
   ]
  },
  {
   "cell_type": "code",
   "execution_count": 18,
   "metadata": {},
   "outputs": [
    {
     "data": {
      "text/plain": [
       "noise_1_mlp0_var    0.607976\n",
       "noise_1_mlp1_var    0.604905\n",
       "noise_1_mlp2_var    0.611767\n",
       "noise_1_mlp3_var    0.619437\n",
       "noise_1_mlp4_var    0.606697\n",
       "noise_1_base_var    0.693582\n",
       "dtype: float64"
      ]
     },
     "execution_count": 18,
     "metadata": {},
     "output_type": "execute_result"
    }
   ],
   "source": [
    "median_scores"
   ]
  },
  {
   "cell_type": "code",
   "execution_count": 9,
   "metadata": {},
   "outputs": [],
   "source": [
    "has_model_mask = ~pd.isna(model_scores.noise_1_base_var)\n",
    "base_model_scores = model_scores[has_model_mask].noise_1_base_var\n",
    "\n",
    "diff_mean = {}\n",
    "diff_std = {}\n",
    "\n",
    "for col in model_scores.columns:\n",
    "    if col in ['cell_id', 'noise_1_base_var']:\n",
    "        continue\n",
    "    scores = model_scores[has_model_mask][col]\n",
    "    diff = scores - base_model_scores\n",
    "    diff_mean[col] = np.mean(diff)\n",
    "    diff_std[col] = np.std(diff)"
   ]
  },
  {
   "cell_type": "code",
   "execution_count": 10,
   "metadata": {},
   "outputs": [
    {
     "data": {
      "text/plain": [
       "(-0.4, 0.0)"
      ]
     },
     "execution_count": 10,
     "metadata": {},
     "output_type": "execute_result"
    },
    {
     "data": {
      "image/png": "[encoded data removed]",
      "text/plain": [
       "<Figure size 640x480 with 1 Axes>"
      ]
     },
     "metadata": {},
     "output_type": "display_data"
    }
   ],
   "source": [
    "plt.bar(list(diff_mean.keys()), list(diff_mean.values()), yerr=np.array(list(diff_std.values())) / np.sqrt(has_model_mask.sum()))\n",
    "plt.xticks(rotation=90)\n",
    "plt.ylim(-0.4, 0)"
   ]
  },
  {
   "cell_type": "code",
   "execution_count": 11,
   "metadata": {},
   "outputs": [
    {
     "data": {
      "text/plain": [
       "(0.0, 1.0)"
      ]
     },
     "execution_count": 11,
     "metadata": {},
     "output_type": "execute_result"
    },
    {
     "data": {
      "image/png": "[encoded data removed]",
      "text/plain": [
       "<Figure size 640x480 with 1 Axes>"
      ]
     },
     "metadata": {},
     "output_type": "display_data"
    }
   ],
   "source": [
    "median_scores = model_scores[has_model_mask].iloc[:, 1:].median()\n",
    "plt.bar(median_scores.index, median_scores)\n",
    "plt.xticks(rotation=90)\n",
    "plt.ylim(0,1)"
   ]
  },
  {
   "cell_type": "code",
   "execution_count": 12,
   "metadata": {},
   "outputs": [],
   "source": [
    "cell_df = cell_df.set_index('id').loc[model_scores.cell_id]\n",
    "morph_df = morph_df.set_index('specimen_id').loc[model_scores.cell_id]\n",
    "ef_df = ef_df.set_index('specimen_id').loc[model_scores.cell_id]"
   ]
  },
  {
   "cell_type": "code",
   "execution_count": 13,
   "metadata": {},
   "outputs": [
    {
     "data": {
      "text/plain": [
       "Index(['reporter_status', 'cell_soma_location', 'species', 'name',\n",
       "       'structure_layer_name', 'structure_area_id', 'structure_area_abbrev',\n",
       "       'transgenic_line', 'dendrite_type', 'apical', 'reconstruction_type',\n",
       "       'disease_state', 'donor_id', 'structure_hemisphere',\n",
       "       'normalized_depth'],\n",
       "      dtype='object')"
      ]
     },
     "execution_count": 13,
     "metadata": {},
     "output_type": "execute_result"
    }
   ],
   "source": [
    "cell_df.columns"
   ]
  },
  {
   "cell_type": "code",
   "execution_count": 14,
   "metadata": {},
   "outputs": [],
   "source": [
    "from sklearn.preprocessing import LabelEncoder\n",
    "discretized = LabelEncoder().fit_transform(cell_df[has_model_mask.to_numpy()].transgenic_line)"
   ]
  },
  {
   "cell_type": "code",
   "execution_count": 16,
   "metadata": {},
   "outputs": [
    {
     "data": {
      "text/plain": [
       "[<matplotlib.lines.Line2D at 0x7f517fdcbe20>]"
      ]
     },
     "execution_count": 16,
     "metadata": {},
     "output_type": "execute_result"
    },
    {
     "data": {
      "image/png": "[encoded data removed]",
      "text/plain": [
       "<Figure size 640x480 with 1 Axes>"
      ]
     },
     "metadata": {},
     "output_type": "display_data"
    }
   ],
   "source": [
    "col = 'noise_1_mlp3_var'\n",
    "pred_scores = model_scores[has_model_mask][col]\n",
    "plt.scatter(base_model_scores, pred_scores, c=discretized, cmap=plt.cm.hsv)\n",
    "plt.plot(np.arange(0, 1, 0.01), np.arange(0, 1, 0.01))"
   ]
  },
  {
   "cell_type": "code",
   "execution_count": null,
   "metadata": {},
   "outputs": [],
   "source": []
  }
 ],
 "metadata": {
  "kernelspec": {
   "display_name": "Python 3.8.13 ('bmed7610')",
   "language": "python",
   "name": "python3"
  },
  "language_info": {
   "codemirror_mode": {
    "name": "ipython",
    "version": 3
   },
   "file_extension": ".py",
   "mimetype": "text/x-python",
   "name": "python",
   "nbconvert_exporter": "python",
   "pygments_lexer": "ipython3",
   "version": "3.8.13"
  },
  "orig_nbformat": 4,
  "vscode": {
   "interpreter": {
    "hash": "4850af36c3e02157f517de47d85f69f1c96e9fd7c4ce9abf61aa68064fc65c69"
   }
  }
 },
 "nbformat": 4,
 "nbformat_minor": 2
}
