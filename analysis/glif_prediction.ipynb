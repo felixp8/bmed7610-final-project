{
 "cells": [
  {
   "cell_type": "code",
   "execution_count": 1,
   "metadata": {},
   "outputs": [],
   "source": [
    "import os\n",
    "os.chdir('../ssl_neuron/')"
   ]
  },
  {
   "cell_type": "code",
   "execution_count": 2,
   "metadata": {},
   "outputs": [],
   "source": [
    "import json\n",
    "import pickle\n",
    "import numpy as np\n",
    "import pandas as pd\n",
    "from tqdm import tqdm\n",
    "import matplotlib.pyplot as plt\n",
    "import networkx as nx\n",
    "from allensdk.core.cell_types_cache import CellTypesCache\n",
    "\n",
    "from allensdk.api.queries.glif_api import GlifApi\n",
    "import allensdk.core.json_utilities as json_utilities"
   ]
  },
  {
   "cell_type": "code",
   "execution_count": 3,
   "metadata": {},
   "outputs": [
    {
     "name": "stderr",
     "output_type": "stream",
     "text": [
      "/home/fpei2/miniconda3/envs/bmed7610/lib/python3.8/site-packages/tqdm-4.64.1-py3.8.egg/tqdm/auto.py:22: TqdmWarning: IProgress not found. Please update jupyter and ipywidgets. See https://ipywidgets.readthedocs.io/en/stable/user_install.html\n",
      "  from .autonotebook import tqdm as notebook_tqdm\n"
     ]
    }
   ],
   "source": [
    "from ssl_neuron.datasets import AllenDataset"
   ]
  },
  {
   "cell_type": "code",
   "execution_count": 4,
   "metadata": {},
   "outputs": [],
   "source": [
    "config = json.load(open('./ssl_neuron/configs/config.json'))\n",
    "config['data']['n_nodes'] = 1000"
   ]
  },
  {
   "cell_type": "code",
   "execution_count": 5,
   "metadata": {},
   "outputs": [],
   "source": [
    "ctc = CellTypesCache(manifest_file='./ssl_neuron/data/cell_types/manifest.json')"
   ]
  },
  {
   "cell_type": "code",
   "execution_count": 6,
   "metadata": {},
   "outputs": [
    {
     "name": "stderr",
     "output_type": "stream",
     "text": [
      "430it [00:07, 55.84it/s] \n"
     ]
    }
   ],
   "source": [
    "dset = AllenDataset(config, mode='all')"
   ]
  },
  {
   "cell_type": "code",
   "execution_count": 7,
   "metadata": {},
   "outputs": [],
   "source": [
    "glif_api = GlifApi()"
   ]
  },
  {
   "cell_type": "code",
   "execution_count": 17,
   "metadata": {},
   "outputs": [],
   "source": [
    "model_ids = []\n",
    "model_vars = []\n",
    "has_model = []\n",
    "cell_ids = []\n",
    "for cell_id in dset.cell_ids:\n",
    "    nm = glif_api.get_neuronal_models(cell_id)\n",
    "    if len(nm) < 1:\n",
    "        # print(f'{cell_id}*, ', end='')\n",
    "        has_model.append(False)\n",
    "        continue\n",
    "    nm = nm[0]['neuronal_models']\n",
    "    model_id = None\n",
    "    for model in nm:\n",
    "        if '3' in model['name'][:2]: # get basic LIF neurons\n",
    "            model_id = model['id']\n",
    "            try:\n",
    "                var = model['neuronal_model_runs'][0]['explained_variance_ratio']\n",
    "            except:\n",
    "                var = None\n",
    "            break\n",
    "    if model_id is None:\n",
    "        # print(f'{cell_id}-, ', end='')\n",
    "        has_model.append(False)\n",
    "        continue\n",
    "    model_ids.append(model_id)\n",
    "    has_model.append(True)\n",
    "    cell_ids.append(cell_id)\n",
    "    model_vars.append(var)\n",
    "# print('')"
   ]
  },
  {
   "cell_type": "code",
   "execution_count": 71,
   "metadata": {},
   "outputs": [
    {
     "name": "stdout",
     "output_type": "stream",
     "text": [
      "244\n"
     ]
    }
   ],
   "source": [
    "print(len(model_ids))"
   ]
  },
  {
   "cell_type": "code",
   "execution_count": 78,
   "metadata": {},
   "outputs": [
    {
     "name": "stdout",
     "output_type": "stream",
     "text": [
      "0.6984018512508208\n"
     ]
    },
    {
     "data": {
      "text/plain": [
       "(array([ 2.,  3.,  0.,  3.,  8., 32., 63., 72., 27., 34.]),\n",
       " array([-0.00511748,  0.09367799,  0.19247346,  0.29126893,  0.3900644 ,\n",
       "         0.48885987,  0.58765534,  0.68645081,  0.78524628,  0.88404174,\n",
       "         0.98283721]),\n",
       " <BarContainer object of 10 artists>)"
      ]
     },
     "execution_count": 78,
     "metadata": {},
     "output_type": "execute_result"
    },
    {
     "data": {
      "image/png": "[encoded data removed]",
      "text/plain": [
       "<Figure size 640x480 with 1 Axes>"
      ]
     },
     "metadata": {},
     "output_type": "display_data"
    }
   ],
   "source": [
    "print(np.mean(model_vars))\n",
    "plt.hist(model_vars)"
   ]
  },
  {
   "cell_type": "code",
   "execution_count": 9,
   "metadata": {},
   "outputs": [],
   "source": [
    "latents = np.load('../analysis/latents.npy')\n",
    "latents = latents[np.array(has_model)]"
   ]
  },
  {
   "cell_type": "code",
   "execution_count": 19,
   "metadata": {},
   "outputs": [],
   "source": [
    "configs = glif_api.get_neuron_configs(model_ids)"
   ]
  },
  {
   "cell_type": "code",
   "execution_count": 20,
   "metadata": {},
   "outputs": [
    {
     "data": {
      "text/plain": [
       "{'El_reference': -0.0790417277018229,\n",
       " 'C': 6.072689987399939e-11,\n",
       " 'asc_amp_array': [-2.3825265478178427e-11, -2.9206473034028727e-10],\n",
       " 'init_threshold': 0.04294493489668067,\n",
       " 'threshold_reset_method': {'params': {}, 'name': 'inf'},\n",
       " 'th_inf': 0.04294493489668067,\n",
       " 'spike_cut_length': 29,\n",
       " 'init_AScurrents': [0.0, 0.0],\n",
       " 'init_voltage': 0.0,\n",
       " 'threshold_dynamics_method': {'params': {}, 'name': 'inf'},\n",
       " 'voltage_reset_method': {'params': {}, 'name': 'zero'},\n",
       " 'extrapolation_method_name': 'endpoints',\n",
       " 'dt': 5e-05,\n",
       " 'voltage_dynamics_method': {'params': {}, 'name': 'linear_forward_euler'},\n",
       " 'El': 0.0,\n",
       " 'asc_tau_array': [0.03333333333333334, 0.0033333333333333335],\n",
       " 'R_input': 287519215.47957283,\n",
       " 'AScurrent_dynamics_method': {'params': {}, 'name': 'exp'},\n",
       " 'AScurrent_reset_method': {'params': {'r': [1.0, 1.0]}, 'name': 'sum'},\n",
       " 'dt_multiplier': 10,\n",
       " 'th_adapt': None,\n",
       " 'coeffs': {'a': 1,\n",
       "  'C': 1,\n",
       "  'b': 1,\n",
       "  'G': 1,\n",
       "  'th_inf': 0.684653025255221,\n",
       "  'asc_amp_array': [1.0, 1.0]},\n",
       " 'type': 'GLIF'}"
      ]
     },
     "execution_count": 20,
     "metadata": {},
     "output_type": "execute_result"
    }
   ],
   "source": [
    "configs[model_ids[0]]"
   ]
  },
  {
   "cell_type": "code",
   "execution_count": 16,
   "metadata": {},
   "outputs": [
    {
     "data": {
      "text/plain": [
       "{'El_reference': -0.0790417277018229,\n",
       " 'C': 6.072689987399939e-11,\n",
       " 'asc_amp_array': [-2.3825265478178427e-11, -2.9206473034028727e-10],\n",
       " 'init_threshold': 0.04294493489668067,\n",
       " 'threshold_reset_method': {'params': {}, 'name': 'inf'},\n",
       " 'th_inf': 0.04294493489668067,\n",
       " 'spike_cut_length': 29,\n",
       " 'init_AScurrents': [0.0, 0.0],\n",
       " 'init_voltage': 0.0,\n",
       " 'threshold_dynamics_method': {'params': {}, 'name': 'inf'},\n",
       " 'voltage_reset_method': {'params': {}, 'name': 'zero'},\n",
       " 'extrapolation_method_name': 'endpoints',\n",
       " 'dt': 5e-05,\n",
       " 'voltage_dynamics_method': {'params': {}, 'name': 'linear_forward_euler'},\n",
       " 'El': 0.0,\n",
       " 'asc_tau_array': [0.03333333333333334, 0.0033333333333333335],\n",
       " 'R_input': 255066542.81734213,\n",
       " 'AScurrent_dynamics_method': {'params': {}, 'name': 'none'},\n",
       " 'AScurrent_reset_method': {'params': {}, 'name': 'none'},\n",
       " 'dt_multiplier': 10,\n",
       " 'th_adapt': None,\n",
       " 'coeffs': {'a': 1,\n",
       "  'C': 1,\n",
       "  'b': 1,\n",
       "  'G': 1,\n",
       "  'th_inf': 0.8089171303795053,\n",
       "  'asc_amp_array': [1.0, 1.0]},\n",
       " 'type': 'GLIF'}"
      ]
     },
     "execution_count": 16,
     "metadata": {},
     "output_type": "execute_result"
    }
   ],
   "source": [
    "configs[model_ids[0]]"
   ]
  },
  {
   "cell_type": "code",
   "execution_count": 21,
   "metadata": {},
   "outputs": [],
   "source": [
    "def flatten_dict(dictionary, prefix=''):\n",
    "    flattened = {}\n",
    "    for key, value in dictionary.items():\n",
    "        if isinstance(value, (list, tuple)):\n",
    "            for i, item in enumerate(value):\n",
    "                flattened[f'{prefix}{key}_{i}'] = item\n",
    "        elif isinstance(value, dict):\n",
    "            if len(value) > 0:\n",
    "                flattened.update(flatten_dict(value, key + '_'))\n",
    "        else:\n",
    "            flattened[f'{prefix}{key}'] = value\n",
    "    return flattened\n",
    "model_data = []\n",
    "for cell_id, model_id in zip(cell_ids, model_ids):\n",
    "    model_config = configs[model_id]\n",
    "    keep_config = flatten_dict(model_config)\n",
    "    keep_config['model_id'] = model_id\n",
    "    keep_config['cell_id'] = cell_id\n",
    "    # keep_config = {'model_id': model_id, 'cell_id': cell_id}\n",
    "    # keep_config['El_reference'] = model_config['El_reference']\n",
    "    # keep_config['C'] = model_config['C']\n",
    "    # keep_config['asc_amp_array_0'] = model_config['asc_amp_array'][0]\n",
    "    # keep_config['asc_amp_array_1'] = model_config['asc_amp_array'][1]\n",
    "    # keep_config['init_threshold'] = model_config['init_threshold']\n",
    "    # keep_config['th_inf'] = model_config['th_inf']\n",
    "    # keep_config['spike_cut_length'] = model_config['spike_cut_length']\n",
    "    # keep_config['asc_tau_array_0'] = model_config['asc_tau_array'][0] # four distinct values: [0.033.., 0.01, 0.33.., 0.1]\n",
    "    # keep_config['asc_tau_array_1'] = model_config['asc_tau_array'][1]\n",
    "    # keep_config['R_input'] = model_config['R_input']\n",
    "    # keep_config['coef_th_inf'] = model_config['coeffs']['th_inf']\n",
    "    # keep_config['coef_asc_amp_array_0'] = model_config['coeffs']['asc_amp_array'][0]\n",
    "    # keep_config['coef_asc_amp_array_1'] = model_config['coeffs']['asc_amp_array'][1]\n",
    "    model_data.append(keep_config)"
   ]
  },
  {
   "cell_type": "code",
   "execution_count": 22,
   "metadata": {},
   "outputs": [],
   "source": [
    "model_df = pd.DataFrame(model_data)"
   ]
  },
  {
   "cell_type": "code",
   "execution_count": 23,
   "metadata": {},
   "outputs": [
    {
     "data": {
      "text/plain": [
       "Index(['El_reference', 'C', 'asc_amp_array_0', 'asc_amp_array_1',\n",
       "       'init_threshold', 'threshold_reset_method_name', 'th_inf',\n",
       "       'spike_cut_length', 'init_AScurrents_0', 'init_AScurrents_1',\n",
       "       'init_voltage', 'threshold_dynamics_method_name',\n",
       "       'voltage_reset_method_name', 'extrapolation_method_name', 'dt',\n",
       "       'voltage_dynamics_method_name', 'El', 'asc_tau_array_0',\n",
       "       'asc_tau_array_1', 'R_input', 'AScurrent_dynamics_method_name',\n",
       "       'params_r_0', 'params_r_1', 'AScurrent_reset_method_name',\n",
       "       'dt_multiplier', 'th_adapt', 'coeffs_a', 'coeffs_C', 'coeffs_b',\n",
       "       'coeffs_G', 'coeffs_th_inf', 'coeffs_asc_amp_array_0',\n",
       "       'coeffs_asc_amp_array_1', 'type', 'model_id', 'cell_id'],\n",
       "      dtype='object')"
      ]
     },
     "execution_count": 23,
     "metadata": {},
     "output_type": "execute_result"
    }
   ],
   "source": [
    "model_df.columns"
   ]
  },
  {
   "cell_type": "code",
   "execution_count": 24,
   "metadata": {},
   "outputs": [
    {
     "name": "stdout",
     "output_type": "stream",
     "text": [
      "480051204\n",
      "637920410\n",
      "244\n",
      "[566281824 566284003 566284338 566285504 566290552]\n"
     ]
    }
   ],
   "source": [
    "field = 'model_id'\n",
    "print(model_df[field].min())\n",
    "print(model_df[field].max())\n",
    "print(model_df[field].nunique())\n",
    "print(model_df[field].unique()[:5])"
   ]
  },
  {
   "cell_type": "code",
   "execution_count": 25,
   "metadata": {},
   "outputs": [
    {
     "data": {
      "text/plain": [
       "Index(['El_reference', 'C', 'asc_amp_array_0', 'asc_amp_array_1',\n",
       "       'init_threshold', 'spike_cut_length', 'asc_tau_array_0',\n",
       "       'asc_tau_array_1', 'R_input', 'coeffs_th_inf', 'model_id', 'cell_id'],\n",
       "      dtype='object')"
      ]
     },
     "execution_count": 25,
     "metadata": {},
     "output_type": "execute_result"
    }
   ],
   "source": [
    "for column in model_df.columns:\n",
    "    if model_df[column].nunique() <= 1:\n",
    "        model_df.drop(column, axis=1, inplace=True)\n",
    "if np.max(np.abs(model_df['th_inf'] - model_df['init_threshold'])) < 1e-6:\n",
    "    model_df.drop('th_inf', axis=1, inplace=True)\n",
    "model_df.columns"
   ]
  },
  {
   "cell_type": "code",
   "execution_count": 88,
   "metadata": {},
   "outputs": [],
   "source": [
    "from sklearn.model_selection import GridSearchCV\n",
    "from sklearn.linear_model import Ridge, LogisticRegression\n",
    "from sklearn.preprocessing import StandardScaler, LabelEncoder\n",
    "from sklearn.manifold import TSNE\n",
    "from sklearn.decomposition import PCA\n",
    "from sklearn.svm import SVR\n",
    "\n",
    "from sklearn.metrics import r2_score\n",
    "from scipy.stats import pearsonr"
   ]
  },
  {
   "cell_type": "code",
   "execution_count": 111,
   "metadata": {},
   "outputs": [
    {
     "name": "stdout",
     "output_type": "stream",
     "text": [
      "0.31883733905527456\n"
     ]
    },
    {
     "data": {
      "text/html": [
       "<div>\n",
       "<style scoped>\n",
       "    .dataframe tbody tr th:only-of-type {\n",
       "        vertical-align: middle;\n",
       "    }\n",
       "\n",
       "    .dataframe tbody tr th {\n",
       "        vertical-align: top;\n",
       "    }\n",
       "\n",
       "    .dataframe thead th {\n",
       "        text-align: right;\n",
       "    }\n",
       "</style>\n",
       "<table border=\"1\" class=\"dataframe\">\n",
       "  <thead>\n",
       "    <tr style=\"text-align: right;\">\n",
       "      <th></th>\n",
       "      <th>mean_fit_time</th>\n",
       "      <th>std_fit_time</th>\n",
       "      <th>mean_score_time</th>\n",
       "      <th>std_score_time</th>\n",
       "      <th>param_C</th>\n",
       "      <th>params</th>\n",
       "      <th>split0_test_score</th>\n",
       "      <th>split1_test_score</th>\n",
       "      <th>split2_test_score</th>\n",
       "      <th>split3_test_score</th>\n",
       "      <th>split4_test_score</th>\n",
       "      <th>mean_test_score</th>\n",
       "      <th>std_test_score</th>\n",
       "      <th>rank_test_score</th>\n",
       "    </tr>\n",
       "  </thead>\n",
       "  <tbody>\n",
       "    <tr>\n",
       "      <th>0</th>\n",
       "      <td>0.004526</td>\n",
       "      <td>0.000281</td>\n",
       "      <td>0.001754</td>\n",
       "      <td>0.000434</td>\n",
       "      <td>0.000001</td>\n",
       "      <td>{'C': 1e-06}</td>\n",
       "      <td>-0.026621</td>\n",
       "      <td>-0.018621</td>\n",
       "      <td>-0.031712</td>\n",
       "      <td>-0.119613</td>\n",
       "      <td>-0.000156</td>\n",
       "      <td>-0.039344</td>\n",
       "      <td>0.041541</td>\n",
       "      <td>8</td>\n",
       "    </tr>\n",
       "    <tr>\n",
       "      <th>1</th>\n",
       "      <td>0.004230</td>\n",
       "      <td>0.000085</td>\n",
       "      <td>0.001526</td>\n",
       "      <td>0.000056</td>\n",
       "      <td>0.00001</td>\n",
       "      <td>{'C': 1e-05}</td>\n",
       "      <td>-0.026593</td>\n",
       "      <td>-0.018577</td>\n",
       "      <td>-0.031698</td>\n",
       "      <td>-0.119607</td>\n",
       "      <td>-0.000128</td>\n",
       "      <td>-0.039321</td>\n",
       "      <td>0.041551</td>\n",
       "      <td>7</td>\n",
       "    </tr>\n",
       "    <tr>\n",
       "      <th>2</th>\n",
       "      <td>0.004238</td>\n",
       "      <td>0.000032</td>\n",
       "      <td>0.001500</td>\n",
       "      <td>0.000067</td>\n",
       "      <td>0.0001</td>\n",
       "      <td>{'C': 0.0001}</td>\n",
       "      <td>-0.026317</td>\n",
       "      <td>-0.018142</td>\n",
       "      <td>-0.031664</td>\n",
       "      <td>-0.119550</td>\n",
       "      <td>0.000146</td>\n",
       "      <td>-0.039105</td>\n",
       "      <td>0.041642</td>\n",
       "      <td>6</td>\n",
       "    </tr>\n",
       "    <tr>\n",
       "      <th>3</th>\n",
       "      <td>0.004202</td>\n",
       "      <td>0.000090</td>\n",
       "      <td>0.001451</td>\n",
       "      <td>0.000077</td>\n",
       "      <td>0.001</td>\n",
       "      <td>{'C': 0.001}</td>\n",
       "      <td>-0.024951</td>\n",
       "      <td>-0.015285</td>\n",
       "      <td>-0.030371</td>\n",
       "      <td>-0.118277</td>\n",
       "      <td>0.002994</td>\n",
       "      <td>-0.037178</td>\n",
       "      <td>0.042109</td>\n",
       "      <td>5</td>\n",
       "    </tr>\n",
       "    <tr>\n",
       "      <th>4</th>\n",
       "      <td>0.004208</td>\n",
       "      <td>0.000135</td>\n",
       "      <td>0.001534</td>\n",
       "      <td>0.000045</td>\n",
       "      <td>0.01</td>\n",
       "      <td>{'C': 0.01}</td>\n",
       "      <td>-0.008324</td>\n",
       "      <td>0.013579</td>\n",
       "      <td>-0.014928</td>\n",
       "      <td>-0.091108</td>\n",
       "      <td>0.026996</td>\n",
       "      <td>-0.014757</td>\n",
       "      <td>0.041030</td>\n",
       "      <td>4</td>\n",
       "    </tr>\n",
       "    <tr>\n",
       "      <th>5</th>\n",
       "      <td>0.003809</td>\n",
       "      <td>0.001418</td>\n",
       "      <td>0.001287</td>\n",
       "      <td>0.000427</td>\n",
       "      <td>0.1</td>\n",
       "      <td>{'C': 0.1}</td>\n",
       "      <td>0.030856</td>\n",
       "      <td>0.121735</td>\n",
       "      <td>0.028346</td>\n",
       "      <td>-0.037363</td>\n",
       "      <td>0.119650</td>\n",
       "      <td>0.052645</td>\n",
       "      <td>0.060712</td>\n",
       "      <td>2</td>\n",
       "    </tr>\n",
       "    <tr>\n",
       "      <th>6</th>\n",
       "      <td>0.003133</td>\n",
       "      <td>0.000126</td>\n",
       "      <td>0.000960</td>\n",
       "      <td>0.000069</td>\n",
       "      <td>1.0</td>\n",
       "      <td>{'C': 1.0}</td>\n",
       "      <td>0.070605</td>\n",
       "      <td>0.210612</td>\n",
       "      <td>0.052738</td>\n",
       "      <td>-0.028027</td>\n",
       "      <td>0.181364</td>\n",
       "      <td>0.097459</td>\n",
       "      <td>0.087535</td>\n",
       "      <td>1</td>\n",
       "    </tr>\n",
       "    <tr>\n",
       "      <th>7</th>\n",
       "      <td>0.004759</td>\n",
       "      <td>0.000278</td>\n",
       "      <td>0.001029</td>\n",
       "      <td>0.000168</td>\n",
       "      <td>10.0</td>\n",
       "      <td>{'C': 10.0}</td>\n",
       "      <td>-0.031655</td>\n",
       "      <td>0.045350</td>\n",
       "      <td>0.185343</td>\n",
       "      <td>-0.154090</td>\n",
       "      <td>0.046984</td>\n",
       "      <td>0.018386</td>\n",
       "      <td>0.111060</td>\n",
       "      <td>3</td>\n",
       "    </tr>\n",
       "    <tr>\n",
       "      <th>8</th>\n",
       "      <td>0.012323</td>\n",
       "      <td>0.001056</td>\n",
       "      <td>0.001101</td>\n",
       "      <td>0.000116</td>\n",
       "      <td>100.0</td>\n",
       "      <td>{'C': 100.0}</td>\n",
       "      <td>-0.549671</td>\n",
       "      <td>-0.266761</td>\n",
       "      <td>-0.225184</td>\n",
       "      <td>-0.631142</td>\n",
       "      <td>-0.996003</td>\n",
       "      <td>-0.533752</td>\n",
       "      <td>0.279253</td>\n",
       "      <td>9</td>\n",
       "    </tr>\n",
       "    <tr>\n",
       "      <th>9</th>\n",
       "      <td>0.022933</td>\n",
       "      <td>0.002587</td>\n",
       "      <td>0.001276</td>\n",
       "      <td>0.000227</td>\n",
       "      <td>1000.0</td>\n",
       "      <td>{'C': 1000.0}</td>\n",
       "      <td>-1.408841</td>\n",
       "      <td>-1.024312</td>\n",
       "      <td>-0.471069</td>\n",
       "      <td>-1.247640</td>\n",
       "      <td>-2.170257</td>\n",
       "      <td>-1.264424</td>\n",
       "      <td>0.552944</td>\n",
       "      <td>10</td>\n",
       "    </tr>\n",
       "  </tbody>\n",
       "</table>\n",
       "</div>"
      ],
      "text/plain": [
       "   mean_fit_time  std_fit_time  mean_score_time  std_score_time   param_C  \\\n",
       "0       0.004526      0.000281         0.001754        0.000434  0.000001   \n",
       "1       0.004230      0.000085         0.001526        0.000056   0.00001   \n",
       "2       0.004238      0.000032         0.001500        0.000067    0.0001   \n",
       "3       0.004202      0.000090         0.001451        0.000077     0.001   \n",
       "4       0.004208      0.000135         0.001534        0.000045      0.01   \n",
       "5       0.003809      0.001418         0.001287        0.000427       0.1   \n",
       "6       0.003133      0.000126         0.000960        0.000069       1.0   \n",
       "7       0.004759      0.000278         0.001029        0.000168      10.0   \n",
       "8       0.012323      0.001056         0.001101        0.000116     100.0   \n",
       "9       0.022933      0.002587         0.001276        0.000227    1000.0   \n",
       "\n",
       "          params  split0_test_score  split1_test_score  split2_test_score  \\\n",
       "0   {'C': 1e-06}          -0.026621          -0.018621          -0.031712   \n",
       "1   {'C': 1e-05}          -0.026593          -0.018577          -0.031698   \n",
       "2  {'C': 0.0001}          -0.026317          -0.018142          -0.031664   \n",
       "3   {'C': 0.001}          -0.024951          -0.015285          -0.030371   \n",
       "4    {'C': 0.01}          -0.008324           0.013579          -0.014928   \n",
       "5     {'C': 0.1}           0.030856           0.121735           0.028346   \n",
       "6     {'C': 1.0}           0.070605           0.210612           0.052738   \n",
       "7    {'C': 10.0}          -0.031655           0.045350           0.185343   \n",
       "8   {'C': 100.0}          -0.549671          -0.266761          -0.225184   \n",
       "9  {'C': 1000.0}          -1.408841          -1.024312          -0.471069   \n",
       "\n",
       "   split3_test_score  split4_test_score  mean_test_score  std_test_score  \\\n",
       "0          -0.119613          -0.000156        -0.039344        0.041541   \n",
       "1          -0.119607          -0.000128        -0.039321        0.041551   \n",
       "2          -0.119550           0.000146        -0.039105        0.041642   \n",
       "3          -0.118277           0.002994        -0.037178        0.042109   \n",
       "4          -0.091108           0.026996        -0.014757        0.041030   \n",
       "5          -0.037363           0.119650         0.052645        0.060712   \n",
       "6          -0.028027           0.181364         0.097459        0.087535   \n",
       "7          -0.154090           0.046984         0.018386        0.111060   \n",
       "8          -0.631142          -0.996003        -0.533752        0.279253   \n",
       "9          -1.247640          -2.170257        -1.264424        0.552944   \n",
       "\n",
       "   rank_test_score  \n",
       "0                8  \n",
       "1                7  \n",
       "2                6  \n",
       "3                5  \n",
       "4                4  \n",
       "5                2  \n",
       "6                1  \n",
       "7                3  \n",
       "8                9  \n",
       "9               10  "
      ]
     },
     "execution_count": 111,
     "metadata": {},
     "output_type": "execute_result"
    }
   ],
   "source": [
    "field = 'coeffs_th_inf'\n",
    "\n",
    "np.random.seed(0)\n",
    "perm = np.random.permutation(len(latents))\n",
    "\n",
    "target = model_df[field].to_numpy()\n",
    "target = StandardScaler().fit_transform(target[:, None]).squeeze()\n",
    "\n",
    "gscv = GridSearchCV(SVR(), {'C': np.logspace(-6, 3, 10)})\n",
    "gscv.fit(latents[perm], target[perm])\n",
    "\n",
    "print(gscv.score(latents, target))\n",
    "\n",
    "pd.DataFrame(gscv.cv_results_)"
   ]
  },
  {
   "cell_type": "code",
   "execution_count": null,
   "metadata": {},
   "outputs": [],
   "source": []
  }
 ],
 "metadata": {
  "kernelspec": {
   "display_name": "Python 3.8.13 ('bmed7610')",
   "language": "python",
   "name": "python3"
  },
  "language_info": {
   "codemirror_mode": {
    "name": "ipython",
    "version": 3
   },
   "file_extension": ".py",
   "mimetype": "text/x-python",
   "name": "python",
   "nbconvert_exporter": "python",
   "pygments_lexer": "ipython3",
   "version": "3.8.13"
  },
  "orig_nbformat": 4,
  "vscode": {
   "interpreter": {
    "hash": "4850af36c3e02157f517de47d85f69f1c96e9fd7c4ce9abf61aa68064fc65c69"
   }
  }
 },
 "nbformat": 4,
 "nbformat_minor": 2
}
